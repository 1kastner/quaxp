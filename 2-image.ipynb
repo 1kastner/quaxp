{
 "cells": [
  {
   "cell_type": "markdown",
   "metadata": {},
   "source": [
    "```{admonition} Information\n",
    "__Section__: Part 2 - Image data  \n",
    "__Goal__: Understand how to assess and change the quality of image data.  \n",
    "__Time needed__: x min  \n",
    "__Prerequisites__: Introduction about machine learning experiments  \n",
    "__Prerequisites__: Introduction about machine learning experiments\n",
    "```"
   ]
  },
  {
   "cell_type": "markdown",
   "metadata": {},
   "source": [
    "# Part 2 - Image data\n",
    "\n",
    "In the second part, we will explore the concept of image quality, and more globally have a look at diverse methods to increase the quality of a single image as well as the general quality of a dataset constituted of images.\n",
    "\n",
    "This part will go as follow:\n",
    "\n",
    "- Introduction to image processing: how the image is represented in a computer and how it can be used for a machine learning experiment\n",
    "- Single image quality: how to assess the quality of a single image, based on features numerically computable, and how to modify an image to increase its quality for machine learning\n",
    "- Quality of a dataset of images: how to increase the quality of a bunch of images together to get better results in a machine learning experiment\n",
    "- General conclusion, quiz and practical task"
   ]
  }
 ],
 "metadata": {
  "kernelspec": {
   "display_name": "Python 3",
   "language": "python",
   "name": "python3"
  },
  "language_info": {
   "codemirror_mode": {
    "name": "ipython",
    "version": 3
   },
   "file_extension": ".py",
   "mimetype": "text/x-python",
   "name": "python",
   "nbconvert_exporter": "python",
   "pygments_lexer": "ipython3",
   "version": "3.7.1"
  },
  "varInspector": {
   "cols": {
    "lenName": 16,
    "lenType": 16,
    "lenVar": 40
   },
   "kernels_config": {
    "python": {
     "delete_cmd_postfix": "",
     "delete_cmd_prefix": "del ",
     "library": "var_list.py",
     "varRefreshCmd": "print(var_dic_list())"
    },
    "r": {
     "delete_cmd_postfix": ") ",
     "delete_cmd_prefix": "rm(",
     "library": "var_list.r",
     "varRefreshCmd": "cat(var_dic_list()) "
    }
   },
   "types_to_exclude": [
    "module",
    "function",
    "builtin_function_or_method",
    "instance",
    "_Feature"
   ],
   "window_display": false
  }
 },
 "nbformat": 4,
 "nbformat_minor": 4
}
