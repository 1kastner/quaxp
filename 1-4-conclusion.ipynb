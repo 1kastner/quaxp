{
 "cells": [
  {
   "cell_type": "markdown",
   "metadata": {},
   "source": [
    "```{admonition} Information\n",
    "__Section__: Conclusion\n",
    "__Goal__: Get an overview of what was covered in this chapter.\n",
    "__Time needed__: x min\n",
    "__Prerequisites__: Chapter 1 - Numerical data\n",
    "```"
   ]
  },
  {
   "cell_type": "markdown",
   "metadata": {},
   "source": [
    "# Conclusion"
   ]
  },
  {
   "cell_type": "markdown",
   "metadata": {},
   "source": [
    "## Checklist\n",
    "\n",
    "With this chapter covering the main misusages that can be done with numerical data, we got some insight on how to properly use the data we have, what preprocessing steps should be done on them before using them for a data science project.\n",
    "\n",
    "Here is a checklist that can help you to check if your data are of __good quality__ and if you are __using them properly__:\n",
    "\n",
    "+ __Data collection__\n",
    "    + You know where the data come from.\n",
    "    + You know how, where and when the data have been collected.\n",
    "    + You know what changes have been done on the dataset before you used it.\n",
    "    + You know the meaning of each attribute in the dataset.\n",
    "+ __Data preprocessing__\n",
    "    + You understand the distribution of the attributes in the dataset.\n",
    "    + There are no (obvious) wrong values in the dataset.\n",
    "    + There are no missing values in the dataset.\n",
    "    + Each attribute is formatted under the right type (numerical, category, etc...).\n",
    "+ __Data usage__\n",
    "    + You know the type of problem that you want to solve (regression, classification or other).\n",
    "    + You know which attributes are important for the problem you want to solve.\n",
    "    + The dataset corresponds to the environnement the model will be used in (time period, geographical area, representation of different classes, etc...).\n",
    "    \n",
    "If you check all items in this checklist, it is likely that you are starting your data science project on a good basis, congratulations!"
   ]
  },
  {
   "cell_type": "markdown",
   "metadata": {},
   "source": [
    "## Quiz"
   ]
  },
  {
   "cell_type": "code",
   "execution_count": 5,
   "metadata": {
    "tags": [
     "hide-input"
    ]
   },
   "outputs": [
    {
     "data": {
      "text/html": [
       "\n",
       "        <iframe\n",
       "            width=\"900\"\n",
       "            height=\"800\"\n",
       "            src=\"https://h5p.org/h5p/embed/784273\"\n",
       "            frameborder=\"0\"\n",
       "            allowfullscreen\n",
       "        ></iframe>\n",
       "        "
      ],
      "text/plain": [
       "<IPython.lib.display.IFrame at 0x15fd0185278>"
      ]
     },
     "execution_count": 5,
     "metadata": {},
     "output_type": "execute_result"
    }
   ],
   "source": [
    "from IPython.display import IFrame\n",
    "IFrame(\"https://h5p.org/h5p/embed/784273\", \"900\", \"800\")"
   ]
  },
  {
   "cell_type": "markdown",
   "metadata": {},
   "source": [
    "__References:__\n",
    "\n",
    "The datasets used in this quiz are:\n",
    "+ UFO sightings: https://www.kaggle.com/NUFORC/ufo-sightings#scrubbed.csv\n",
    "+ Wine reviews (1): https://www.kaggle.com/zynicide/wine-reviews\n",
    "+ Wine quality (2): http://archive.ics.uci.edu/ml/datasets/Wine+Quality"
   ]
  }
 ],
 "metadata": {
  "celltoolbar": "Edit Metadata",
  "kernelspec": {
   "display_name": "Python 3",
   "language": "python",
   "name": "python3"
  },
  "language_info": {
   "codemirror_mode": {
    "name": "ipython",
    "version": 3
   },
   "file_extension": ".py",
   "mimetype": "text/x-python",
   "name": "python",
   "nbconvert_exporter": "python",
   "pygments_lexer": "ipython3",
   "version": "3.7.1"
  },
  "varInspector": {
   "cols": {
    "lenName": 16,
    "lenType": 16,
    "lenVar": 40
   },
   "kernels_config": {
    "python": {
     "delete_cmd_postfix": "",
     "delete_cmd_prefix": "del ",
     "library": "var_list.py",
     "varRefreshCmd": "print(var_dic_list())"
    },
    "r": {
     "delete_cmd_postfix": ") ",
     "delete_cmd_prefix": "rm(",
     "library": "var_list.r",
     "varRefreshCmd": "cat(var_dic_list()) "
    }
   },
   "types_to_exclude": [
    "module",
    "function",
    "builtin_function_or_method",
    "instance",
    "_Feature"
   ],
   "window_display": false
  }
 },
 "nbformat": 4,
 "nbformat_minor": 2
}
