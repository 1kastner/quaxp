{
 "cells": [
  {
   "cell_type": "raw",
   "metadata": {},
   "source": [
    "---\n",
    "metadata: true\n",
    "section: \"Introduction to image classification\"\n",
    "goal: \"Understand a basic method to use images in machine learning experiments.\"\n",
    "time: \"x min\"\n",
    "prerequisites: \"None\"\n",
    "level: \"Beginner and advanced\"\n",
    "---"
   ]
  },
  {
   "cell_type": "markdown",
   "metadata": {},
   "source": [
    "# Introduction to image classification"
   ]
  },
  {
   "cell_type": "markdown",
   "metadata": {},
   "source": [
    "In this chapter, we will deal with image data. Before studying how image data quality can affect the results of a machine learning experiment, we need to understand how images are used in a machine learning experiments.\n",
    "\n",
    "There are many methods to use images in machine learning experiments, and we won't go through all of them as this would constitute a whole course in itself. In this course, we will only focus on a very simple method to use image data for classification."
   ]
  },
  {
   "cell_type": "markdown",
   "metadata": {},
   "source": [
    "## Image representation"
   ]
  },
  {
   "cell_type": "markdown",
   "metadata": {},
   "source": [
    "First of all, let's see how an image is stored and represented numerically.\n",
    "\n",
    "An image is made of many __pixels__, each of them with a particular color. Modern computers can show up to 16.7 millions of different colors. It is impossible to store each one of these colors personnally, they are instead represented as a combination of three primary colors: __red__, __green__ and __blue__ (RGB color model).\n",
    "\n",
    "Therefore, for each pixel, we need to store a total of 3 numbers corresponding to the amount of each color. For most computers nowadays, each color can get 256 values (from 0 to 255), 0 being the absence of the color and 255 the highest intensity of it. You will understand better by looking at the following table, showing some examples of colors represented in the RGB model.\n",
    "\n",
    "![text](2-x-rgb-colors.jpg)\n",
    "\n",
    "For an easier readability, we can also express those quantities of each color using a hexadecimal code, with 2 spaces for each color. The understanding of hexadecimal code is not needed for this lecture, but if you are curious, I invite you to read the additional resources [(1)](https://www.mathsisfun.com/hexadecimals.html) or [(2)](https://www.khanacademy.org/computing/computers-and-internet/xcae6f4a7ff015e7d:digital-information/xcae6f4a7ff015e7d:hexadecimal-numbers/a/hexadecimal-numbers).\n",
    "\n",
    "With all this, we understand that a "
   ]
  },
  {
   "cell_type": "markdown",
   "metadata": {},
   "source": [
    "## Histogram of oriented gradients"
   ]
  },
  {
   "cell_type": "markdown",
   "metadata": {},
   "source": [
    "## Image classification"
   ]
  },
  {
   "cell_type": "markdown",
   "metadata": {},
   "source": [
    "## External links\n",
    "\n",
    "\n",
    "- (1): \"Hexadecimals\" from mathsisfun.com: https://www.mathsisfun.com/hexadecimals.html\n",
    "- (2): \"Hexadecimal numbers from the Khan Academy\": https://www.khanacademy.org/computing/computers-and-internet/xcae6f4a7ff015e7d:digital-information/xcae6f4a7ff015e7d:hexadecimal-numbers/a/hexadecimal-numbers"
   ]
  }
 ],
 "metadata": {
  "kernelspec": {
   "display_name": "Python 3",
   "language": "python",
   "name": "python3"
  },
  "language_info": {
   "codemirror_mode": {
    "name": "ipython",
    "version": 3
   },
   "file_extension": ".py",
   "mimetype": "text/x-python",
   "name": "python",
   "nbconvert_exporter": "python",
   "pygments_lexer": "ipython3",
   "version": "3.7.1"
  },
  "varInspector": {
   "cols": {
    "lenName": 16,
    "lenType": 16,
    "lenVar": 40
   },
   "kernels_config": {
    "python": {
     "delete_cmd_postfix": "",
     "delete_cmd_prefix": "del ",
     "library": "var_list.py",
     "varRefreshCmd": "print(var_dic_list())"
    },
    "r": {
     "delete_cmd_postfix": ") ",
     "delete_cmd_prefix": "rm(",
     "library": "var_list.r",
     "varRefreshCmd": "cat(var_dic_list()) "
    }
   },
   "types_to_exclude": [
    "module",
    "function",
    "builtin_function_or_method",
    "instance",
    "_Feature"
   ],
   "window_display": false
  }
 },
 "nbformat": 4,
 "nbformat_minor": 4
}
