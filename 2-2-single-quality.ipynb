{
 "cells": [
  {
   "cell_type": "raw",
   "metadata": {},
   "source": [
    "---\n",
    "metadata: true\n",
    "section: \"Single image quality\"\n",
    "goal: \"Understand how to gauge and enhance the quality of a single image.\"\n",
    "time: \"x min\"\n",
    "prerequisites: \"None\"\n",
    "level: \"Beginner and advanced\"\n",
    "---"
   ]
  },
  {
   "cell_type": "markdown",
   "metadata": {},
   "source": [
    "# Single image quality\n",
    "\n",
    "In this course, we are looking at the general meaning of \"data quality\". For a machine learning experiment, it makes sense to study the global quality of a whole dataset, and this can differ from the quality of single instances. However, for images, we believe it is important to understand and be able to gauge the quality of a single image in order to understand the bigger picture.\n",
    "\n",
    "On this page, we will study, for a single image, different parameters of quality assessment, and see how a single image can be transformed to enhance its quality for a machine learning experiment."
   ]
  }
 ],
 "metadata": {
  "kernelspec": {
   "display_name": "Python 3",
   "language": "python",
   "name": "python3"
  },
  "language_info": {
   "codemirror_mode": {
    "name": "ipython",
    "version": 3
   },
   "file_extension": ".py",
   "mimetype": "text/x-python",
   "name": "python",
   "nbconvert_exporter": "python",
   "pygments_lexer": "ipython3",
   "version": "3.7.1"
  },
  "varInspector": {
   "cols": {
    "lenName": 16,
    "lenType": 16,
    "lenVar": 40
   },
   "kernels_config": {
    "python": {
     "delete_cmd_postfix": "",
     "delete_cmd_prefix": "del ",
     "library": "var_list.py",
     "varRefreshCmd": "print(var_dic_list())"
    },
    "r": {
     "delete_cmd_postfix": ") ",
     "delete_cmd_prefix": "rm(",
     "library": "var_list.r",
     "varRefreshCmd": "cat(var_dic_list()) "
    }
   },
   "types_to_exclude": [
    "module",
    "function",
    "builtin_function_or_method",
    "instance",
    "_Feature"
   ],
   "window_display": false
  }
 },
 "nbformat": 4,
 "nbformat_minor": 4
}
