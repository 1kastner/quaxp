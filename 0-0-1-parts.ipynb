{
 "cells": [
  {
   "cell_type": "markdown",
   "metadata": {},
   "source": [
    "# Tutorials: the different parts of the book\n",
    "\n",
    "This book is divided in different parts. To fully understand how to work with it and which pages to visit, here is an overview on how each part is meant to be integrated in the learning experience.\n",
    "\n",
    "## The introduction\n",
    "\n",
    "The introduction contains some introductory content that can help to understand the course.  \n",
    "If you never heard of machine learning before, and never tried to visualize some data on a graph, we highly recommend you to read the introduction.  \n",
    "This section is meant for both beginner and advanced levels, the introduction to Python targetting only the advanced learners.\n",
    "\n",
    "### {doc}What is machine learning? <0-1-machine-learning>\n",
    "\n",
    "There, you can learn what \"machine learning\" means and how it is used in the course. This page is important to understand what the main steps in a machine learning experiment are. It is a good introduction to understanding the place of the data in the whole process.\n",
    "\n",
    "### {doc}Supervised learning used in this course <0-2-supervised-learning>\n",
    "\n",
    "On this page, we dig a little bit more in the details of the specific type of machine learning we use here. You learn how to measure the performance of a machine learning experiment, and how the data is specified depending on its type.\n",
    "\n",
    "### {doc}Main types of graphs used in this course <0-3-graphs>\n",
    "\n",
    "We present here different ways we will use in the course to visualize the data or the results of our experiments. It follows the previous pages as you need to understand what the data and the results mean before being able to apprehend them on a graph.  \n",
    "Specifically, we present histograms, boxplots, and classic 2-d plots of one variable against another.\n",
    "\n",
    "### {doc}.csv files - data format used in the course <0-4-data>\n",
    "\n",
    "This short page shows the format used for data files in the course. It is not necessary for the beginner level, but it can be useful to have an idea on how the data look like. For the advanced level, the knowledge of ``.csv`` files is necessary.\n",
    "\n",
    "### {doc}Get started with Python <0-5-python>\n",
    "\n",
    "This section offers 7 pages showing basic tutorials about Python. If you only want to follow the beginner level, you can skip this part. It is a good starting point for learners who want to follow the advanced level and have never worked with Python or with the Pandas library. Have a look at the different sections and identify what you already know and what you do not.\n",
    "\n",
    "## The appendix\n",
    "\n",
    "This part is only for curious minds, it contains additional content that is not necessary to understand the course. We present how the data have been collected and transformed before being used in the course, and how the machine learning algorithms that we choose work.\n",
    "\n",
    "## The chapters\n",
    "\n",
    "The course contains 3 chapters. Each chapter contains several sections that are entirely part of the course, with a quiz at the end of each page.  \n",
    "At the end of the chapter, a practical task is proposed for the advanced level.\n",
    "\n",
    "### Chapter 1: numerical data\n",
    "\n",
    "This chapter studies how to understand, gauge and deal with data quality for numerical data, meaning, datasets containing numbers. In our case, we took the specific case of AIS data, data sent by a ship along its journey at sea (speed, location, time). We propose several small experiments to understand how a change in the data affects the result of a machine learning experiment.\n",
    "\n",
    "### Chapter 2: image data\n",
    "\n",
    "We dig into the world of images. How images are treated and understood by algorithms in a machine learning experiment, and how we can modify an image dataset to modify the results of our prediction. We chose a simple problem of object classification for this chapter: we want to build a model that can classify the object present on an image (for example: \"is this animal a horse or a cat?\").\n",
    "\n",
    "### Chapter 3: text data\n",
    "\n",
    "TODO when the chapter is implemented."
   ]
  }
 ],
 "metadata": {
  "kernelspec": {
   "display_name": "Python 3",
   "language": "python",
   "name": "python3"
  },
  "language_info": {
   "codemirror_mode": {
    "name": "ipython",
    "version": 3
   },
   "file_extension": ".py",
   "mimetype": "text/x-python",
   "name": "python",
   "nbconvert_exporter": "python",
   "pygments_lexer": "ipython3",
   "version": "3.7.1"
  },
  "varInspector": {
   "cols": {
    "lenName": 16,
    "lenType": 16,
    "lenVar": 40
   },
   "kernels_config": {
    "python": {
     "delete_cmd_postfix": "",
     "delete_cmd_prefix": "del ",
     "library": "var_list.py",
     "varRefreshCmd": "print(var_dic_list())"
    },
    "r": {
     "delete_cmd_postfix": ") ",
     "delete_cmd_prefix": "rm(",
     "library": "var_list.r",
     "varRefreshCmd": "cat(var_dic_list()) "
    }
   },
   "types_to_exclude": [
    "module",
    "function",
    "builtin_function_or_method",
    "instance",
    "_Feature"
   ],
   "window_display": false
  }
 },
 "nbformat": 4,
 "nbformat_minor": 4
}
